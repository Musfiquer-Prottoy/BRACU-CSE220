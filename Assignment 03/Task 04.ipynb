{
 "cells": [
  {
   "cell_type": "markdown",
   "metadata": {},
   "source": [
    "Linked List based Stack is implemented in the following cell."
   ]
  },
  {
   "cell_type": "code",
   "execution_count": 3,
   "metadata": {},
   "outputs": [],
   "source": [
    "class Node:\n",
    "  def __init__(self,elem=None,next=None):\n",
    "    self.elem = elem\n",
    "    self.next = next\n",
    "\n",
    "class Stack:\n",
    "  def __init__(self):\n",
    "    self.__top = None\n",
    "\n",
    "  def push(self,elem):\n",
    "    nn = Node(elem,self.__top)\n",
    "    self.__top = nn\n",
    "\n",
    "  def pop(self):\n",
    "    if self.__top == None:\n",
    "      #print('Stack Underflow')\n",
    "      return None\n",
    "    e = self.__top\n",
    "    self.__top = self.__top.next\n",
    "    return e.elem\n",
    "\n",
    "  def peek(self):\n",
    "    if self.__top == None:\n",
    "      #print('Stack Underflow')\n",
    "      return None\n",
    "    return self.__top.elem\n",
    "\n",
    "  def isEmpty(self):\n",
    "    return self.__top == None"
   ]
  },
  {
   "cell_type": "markdown",
   "metadata": {},
   "source": [
    "You can run this driver code cell to understand the methods of Stack class"
   ]
  },
  {
   "cell_type": "code",
   "execution_count": 4,
   "metadata": {},
   "outputs": [
    {
     "name": "stdout",
     "output_type": "stream",
     "text": [
      "Peeked Element:  9\n",
      "Popped Element:  9\n",
      "Popped Element:  1\n",
      "Popped Element:  5\n",
      "Peeked Element:  3\n",
      "Popped Element:  3\n",
      "Popped Element:  4\n",
      "Peeked Element:  None\n",
      "Popped Element:  None\n",
      "True\n"
     ]
    }
   ],
   "source": [
    "st = Stack()\n",
    "st.push(4)\n",
    "st.push(3)\n",
    "st.push(5)\n",
    "st.push(1)\n",
    "st.push(9)\n",
    "\n",
    "print('Peeked Element: ',st.peek())\n",
    "print('Popped Element: ',st.pop())\n",
    "print('Popped Element: ',st.pop())\n",
    "print('Popped Element: ',st.pop())\n",
    "print('Peeked Element: ',st.peek())\n",
    "print('Popped Element: ',st.pop())\n",
    "print('Popped Element: ',st.pop())\n",
    "print('Peeked Element: ',st.peek())\n",
    "print('Popped Element: ',st.pop())\n",
    "print(st.isEmpty())"
   ]
  },
  {
   "cell_type": "markdown",
   "metadata": {},
   "source": [
    "You can print your stack using this code segment"
   ]
  },
  {
   "cell_type": "code",
   "execution_count": 5,
   "metadata": {},
   "outputs": [],
   "source": [
    "def print_stack(st):\n",
    "  if st.isEmpty():\n",
    "    return\n",
    "  p = st.pop()\n",
    "  print('|',p,end=' ')\n",
    "  if p<10:\n",
    "    print(' |')\n",
    "  else:\n",
    "    print('|')\n",
    "  #print('------')\n",
    "  print_stack(st)\n",
    "  st.push(p)\n",
    "\n",
    "# st = Stack()\n",
    "# st.push(4)\n",
    "# st.push(3)\n",
    "# st.push(5)\n",
    "# st.push(1)\n",
    "# st.push(9)\n",
    "# print_stack(st)\n",
    "# print('------')"
   ]
  },
  {
   "cell_type": "markdown",
   "metadata": {},
   "source": [
    "Task 3: Stack Reverse"
   ]
  },
  {
   "cell_type": "code",
   "execution_count": 6,
   "metadata": {},
   "outputs": [
    {
     "name": "stdout",
     "output_type": "stream",
     "text": [
      "Test 01\n",
      "Stack:\n",
      "10 10 20 20 30 10 50 \n",
      "------\n",
      "Conditional Reversed Stack:\n",
      "50 10 30 20 10 \n",
      "------\n"
     ]
    }
   ],
   "source": [
    "def conditional_reverse(stack):\n",
    "  #To Do\n",
    "  rev_st = Stack()\n",
    "  last = None\n",
    "\n",
    "  while stack.isEmpty() == False:\n",
    "    present = stack.pop()\n",
    "    if present != last:\n",
    "      rev_st.push(present)\n",
    "      last = present\n",
    "  return rev_st\n",
    "\n",
    "def print_stack(stack):\n",
    "  c_rev = Stack()\n",
    "\n",
    "  while not stack.isEmpty():\n",
    "    c_rev.push(stack.pop())\n",
    "\n",
    "  while not c_rev.isEmpty():\n",
    "    present = c_rev.pop()\n",
    "    print(present, end = \" \")\n",
    "    stack.push(present)\n",
    "\n",
    "  print()\n",
    "\n",
    "print('Test 01')\n",
    "st=Stack()\n",
    "st.push(10)\n",
    "st.push(10)\n",
    "st.push(20)\n",
    "st.push(20)\n",
    "st.push(30)\n",
    "st.push(10)\n",
    "st.push(50)\n",
    "print('Stack:')\n",
    "print_stack(st)\n",
    "print('------')\n",
    "reversed_stack=conditional_reverse(st)\n",
    "print('Conditional Reversed Stack:')\n",
    "print_stack(reversed_stack) # This stack contains 50, 10, 30, 20, 10 in this order whereas top element should be 10\n",
    "print('------')"
   ]
  }
 ],
 "metadata": {
  "kernelspec": {
   "display_name": "Python 3",
   "language": "python",
   "name": "python3"
  },
  "language_info": {
   "codemirror_mode": {
    "name": "ipython",
    "version": 3
   },
   "file_extension": ".py",
   "mimetype": "text/x-python",
   "name": "python",
   "nbconvert_exporter": "python",
   "pygments_lexer": "ipython3",
   "version": "3.12.3"
  }
 },
 "nbformat": 4,
 "nbformat_minor": 2
}
