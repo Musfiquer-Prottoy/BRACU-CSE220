{
 "cells": [
  {
   "cell_type": "markdown",
   "metadata": {},
   "source": [
    "You must run this cell to print matrix and for the driver code to work"
   ]
  },
  {
   "cell_type": "code",
   "execution_count": 3,
   "metadata": {},
   "outputs": [],
   "source": [
    "def print_matrix(m):\n",
    "  row,col = m.shape\n",
    "  for i in range(row):\n",
    "    c = 1\n",
    "    print('|', end='')\n",
    "    for j in range(col): \n",
    "      c += 1\n",
    "      if(len(str(m[i][j])) == 1):\n",
    "        print(' ',m[i][j], end = '  |')\n",
    "        c += 6\n",
    "      else:\n",
    "        print(' ',m[i][j], end = ' |')\n",
    "        c += 6\n",
    "    print()\n",
    "    print('-'*(c-col))\n"
   ]
  },
  {
   "cell_type": "markdown",
   "metadata": {},
   "source": [
    "Task 01: Merge Lineup"
   ]
  },
  {
   "cell_type": "code",
   "execution_count": 4,
   "metadata": {},
   "outputs": [
    {
     "name": "stdout",
     "output_type": "stream",
     "text": [
      "///  Task 01: Merge Lineup  ///\n",
      "Task 1: [12  3 28 -8  5]\n",
      "Task 1: [ 4 17  6 27  2]\n"
     ]
    }
   ],
   "source": [
    "import numpy as np\n",
    "def mergeLineup(pokemon_1, pokemon_2):\n",
    "  #To Do\n",
    "  for i in range(pokemon_1.size):\n",
    "    if pokemon_1[i] == None:\n",
    "      pokemon_1[i] = 0\n",
    "  for j in range(pokemon_2.size):\n",
    "    if pokemon_2[j] == None:\n",
    "      pokemon_2[j] = 0\n",
    "\n",
    "  returned_value = np.zeros(pokemon_1.size, dtype = int)\n",
    "\n",
    "  for i in range(pokemon_1.size):\n",
    "    returned_value[i] = pokemon_1[i] + pokemon_2[(pokemon_2.size)-1-i]\n",
    "  return returned_value\n",
    "\n",
    "\n",
    "print(\"///  Task 01: Merge Lineup  ///\")\n",
    "pokemon_1 = np.array([12, 3, 25, 1, None])\n",
    "pokemon_2 = np.array([5, -9, 3, None, None] )\n",
    "returned_value =mergeLineup(pokemon_1, pokemon_2)\n",
    "print(f'Task 1: {returned_value}') # This should print [12, 3, 28, -8, 5]\n",
    "pokemon_1 = np.array([4, 5, -1, None, None])\n",
    "pokemon_2 = np.array([2, 27, 7, 12, None])\n",
    "returned_value =mergeLineup(pokemon_1, pokemon_2)\n",
    "print(f'Task 1: {returned_value}') # This should print [4,17,6,27,2]"
   ]
  }
 ],
 "metadata": {
  "kernelspec": {
   "display_name": "Python 3",
   "language": "python",
   "name": "python3"
  },
  "language_info": {
   "codemirror_mode": {
    "name": "ipython",
    "version": 3
   },
   "file_extension": ".py",
   "mimetype": "text/x-python",
   "name": "python",
   "nbconvert_exporter": "python",
   "pygments_lexer": "ipython3",
   "version": "3.11.0"
  }
 },
 "nbformat": 4,
 "nbformat_minor": 2
}
