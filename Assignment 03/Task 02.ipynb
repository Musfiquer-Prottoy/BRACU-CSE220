{
 "cells": [
  {
   "cell_type": "markdown",
   "metadata": {},
   "source": [
    "Linked List based Stack is implemented in the following cell."
   ]
  },
  {
   "cell_type": "code",
   "execution_count": 2,
   "metadata": {},
   "outputs": [],
   "source": [
    "class Node:\n",
    "  def __init__(self,elem=None,next=None):\n",
    "    self.elem = elem\n",
    "    self.next = next\n",
    "\n",
    "class Stack:\n",
    "  def __init__(self):\n",
    "    self.__top = None\n",
    "\n",
    "  def push(self,elem):\n",
    "    nn = Node(elem,self.__top)\n",
    "    self.__top = nn\n",
    "\n",
    "  def pop(self):\n",
    "    if self.__top == None:\n",
    "      #print('Stack Underflow')\n",
    "      return None\n",
    "    e = self.__top\n",
    "    self.__top = self.__top.next\n",
    "    return e.elem\n",
    "\n",
    "  def peek(self):\n",
    "    if self.__top == None:\n",
    "      #print('Stack Underflow')\n",
    "      return None\n",
    "    return self.__top.elem\n",
    "\n",
    "  def isEmpty(self):\n",
    "    return self.__top == None"
   ]
  },
  {
   "cell_type": "markdown",
   "metadata": {},
   "source": [
    "You can run this driver code cell to understand the methods of Stack class"
   ]
  },
  {
   "cell_type": "code",
   "execution_count": null,
   "metadata": {},
   "outputs": [
    {
     "name": "stdout",
     "output_type": "stream",
     "text": [
      "Peeked Element:  9\n",
      "Popped Element:  9\n",
      "Popped Element:  1\n",
      "Popped Element:  5\n",
      "Peeked Element:  3\n",
      "Popped Element:  3\n",
      "Popped Element:  4\n",
      "Peeked Element:  None\n",
      "Popped Element:  None\n",
      "True\n"
     ]
    }
   ],
   "source": [
    "st = Stack()\n",
    "st.push(4)\n",
    "st.push(3)\n",
    "st.push(5)\n",
    "st.push(1)\n",
    "st.push(9)\n",
    "\n",
    "print('Peeked Element: ',st.peek())\n",
    "print('Popped Element: ',st.pop())\n",
    "print('Popped Element: ',st.pop())\n",
    "print('Popped Element: ',st.pop())\n",
    "print('Peeked Element: ',st.peek())\n",
    "print('Popped Element: ',st.pop())\n",
    "print('Popped Element: ',st.pop())\n",
    "print('Peeked Element: ',st.peek())\n",
    "print('Popped Element: ',st.pop())\n",
    "print(st.isEmpty())"
   ]
  },
  {
   "cell_type": "markdown",
   "metadata": {},
   "source": [
    "You can print your stack using this code segment"
   ]
  },
  {
   "cell_type": "code",
   "execution_count": 4,
   "metadata": {},
   "outputs": [],
   "source": [
    "def print_stack(st):\n",
    "  if st.isEmpty():\n",
    "    return\n",
    "  p = st.pop()\n",
    "  print('|',p,end=' ')\n",
    "  if p<10:\n",
    "    print(' |')\n",
    "  else:\n",
    "    print('|')\n",
    "  #print('------')\n",
    "  print_stack(st)\n",
    "  st.push(p)\n",
    "\n",
    "# st = Stack()\n",
    "# st.push(4)\n",
    "# st.push(3)\n",
    "# st.push(5)\n",
    "# st.push(1)\n",
    "# st.push(9)\n",
    "# print_stack(st)\n",
    "# print('------')"
   ]
  },
  {
   "cell_type": "markdown",
   "metadata": {},
   "source": [
    "Task 1: Diamond Count"
   ]
  },
  {
   "cell_type": "code",
   "execution_count": null,
   "metadata": {},
   "outputs": [
    {
     "name": "stdout",
     "output_type": "stream",
     "text": [
      "Test 01\n",
      "Number of Diamonds: 3\n",
      "-----------------------------------------\n",
      "Test 02\n",
      "Number of Diamonds: 1\n",
      "-----------------------------------------\n",
      "Test 03\n",
      "Number of Diamonds: 3\n",
      "-----------------------------------------\n"
     ]
    }
   ],
   "source": [
    "def diamond_count(stack,string):\n",
    "  #TO DO\n",
    "  diamond_count = 0\n",
    "  for n in string:\n",
    "    if n == \"<\":\n",
    "      stack.push(n)\n",
    "    elif n == \">\":\n",
    "      if stack.pop() ==  \"<\":\n",
    "        diamond_count+=1\n",
    "  return diamond_count\n",
    "\n",
    "print('Test 01')\n",
    "stack = Stack()\n",
    "string = '<..><.<..>> '\n",
    "returned_value = diamond_count(stack,string)\n",
    "print(f'Number of Diamonds: {returned_value}') #This should print 3\n",
    "print('-----------------------------------------')\n",
    "\n",
    "\n",
    "print('Test 02')\n",
    "stack = Stack()\n",
    "string = '<<<..<......<<<<....>'\n",
    "returned_value = diamond_count(stack,string)\n",
    "print(f'Number of Diamonds: {returned_value}') #This should print 1\n",
    "print('-----------------------------------------')\n",
    "\n",
    "\n",
    "print('Test 03')\n",
    "stack = Stack()\n",
    "string = '>>><...<<..>>...>...>>>'\n",
    "returned_value = diamond_count(stack,string)\n",
    "print(f'Number of Diamonds: {returned_value}') #This should print 3\n",
    "print('-----------------------------------------')"
   ]
  }
 ],
 "metadata": {
  "kernelspec": {
   "display_name": "Python 3",
   "language": "python",
   "name": "python3"
  },
  "language_info": {
   "codemirror_mode": {
    "name": "ipython",
    "version": 3
   },
   "file_extension": ".py",
   "mimetype": "text/x-python",
   "name": "python",
   "nbconvert_exporter": "python",
   "pygments_lexer": "ipython3",
   "version": "3.12.3"
  }
 },
 "nbformat": 4,
 "nbformat_minor": 2
}
