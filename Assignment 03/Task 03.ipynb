{
 "cells": [
  {
   "cell_type": "markdown",
   "metadata": {},
   "source": [
    "You can run this driver code cell to understand the methods of Stack class"
   ]
  },
  {
   "cell_type": "code",
   "execution_count": 1,
   "metadata": {},
   "outputs": [],
   "source": [
    "class Node:\n",
    "  def __init__(self,elem=None,next=None):\n",
    "    self.elem = elem\n",
    "    self.next = next\n",
    "\n",
    "class Stack:\n",
    "  def __init__(self):\n",
    "    self.__top = None\n",
    "\n",
    "  def push(self,elem):\n",
    "    nn = Node(elem,self.__top)\n",
    "    self.__top = nn\n",
    "\n",
    "  def pop(self):\n",
    "    if self.__top == None:\n",
    "      #print('Stack Underflow')\n",
    "      return None\n",
    "    e = self.__top\n",
    "    self.__top = self.__top.next\n",
    "    return e.elem\n",
    "\n",
    "  def peek(self):\n",
    "    if self.__top == None:\n",
    "      #print('Stack Underflow')\n",
    "      return None\n",
    "    return self.__top.elem\n",
    "\n",
    "  def isEmpty(self):\n",
    "    return self.__top == None"
   ]
  },
  {
   "cell_type": "markdown",
   "metadata": {},
   "source": [
    "You can print your stack using this code segment"
   ]
  },
  {
   "cell_type": "code",
   "execution_count": 2,
   "metadata": {},
   "outputs": [],
   "source": [
    "def print_stack(st):\n",
    "  if st.isEmpty():\n",
    "    return\n",
    "  p = st.pop()\n",
    "  print('|',p,end=' ')\n",
    "  if p<10:\n",
    "    print(' |')\n",
    "  else:\n",
    "    print('|')\n",
    "  #print('------')\n",
    "  print_stack(st)\n",
    "  st.push(p)\n",
    "\n",
    "# st = Stack()\n",
    "# st.push(4)\n",
    "# st.push(3)\n",
    "# st.push(5)\n",
    "# st.push(1)\n",
    "# st.push(9)\n",
    "# print_stack(st)\n",
    "# print('------')"
   ]
  },
  {
   "cell_type": "markdown",
   "metadata": {},
   "source": [
    "Task 2: Tower of Blocks"
   ]
  },
  {
   "cell_type": "code",
   "execution_count": 3,
   "metadata": {},
   "outputs": [
    {
     "name": "stdout",
     "output_type": "stream",
     "text": [
      "Test 01\n",
      "Stack:\n",
      "| 5  |\n",
      "| 17 |\n",
      "| 23 |\n",
      "| 19 |\n",
      "| 4  |\n",
      "------\n",
      "After Removal\n",
      "| 5  |\n",
      "| 23 |\n",
      "| 19 |\n",
      "| 4  |\n",
      "------\n",
      "\n",
      "======================================\n",
      "\n",
      "Test 02\n",
      "Stack:\n",
      "| 41 |\n",
      "| 15 |\n",
      "| 85 |\n",
      "| 73 |\n",
      "------\n",
      "After Removal\n",
      "| 41 |\n",
      "| 15 |\n",
      "| 73 |\n",
      "------\n",
      "\n",
      "======================================\n",
      "\n"
     ]
    }
   ],
   "source": [
    "def remove_block(stack, n):\n",
    "  #TO DO\n",
    "  if n == 0:\n",
    "    return stack\n",
    "\n",
    "  n_stack = Stack()\n",
    "  for i in range(n-1):\n",
    "    rem = st.pop()\n",
    "    n_stack.push(rem)\n",
    "  st.pop()\n",
    "\n",
    "  for i in range(n-1):\n",
    "    a_rem = n_stack.pop()\n",
    "    st.push(a_rem)\n",
    "\n",
    "\n",
    "print('Test 01')\n",
    "st = Stack()\n",
    "st.push(4)\n",
    "st.push(19)\n",
    "st.push(23)\n",
    "st.push(17)\n",
    "st.push(5)\n",
    "print('Stack:')\n",
    "print_stack(st)\n",
    "print('------')\n",
    "remove_block(st,2)\n",
    "print('After Removal')\n",
    "print_stack(st)\n",
    "print('------')\n",
    "\n",
    "print()\n",
    "print('======================================')\n",
    "print()\n",
    "\n",
    "print('Test 02')\n",
    "st = Stack()\n",
    "st.push(73)\n",
    "st.push(85)\n",
    "st.push(15)\n",
    "st.push(41)\n",
    "print('Stack:')\n",
    "print_stack(st)\n",
    "print('------')\n",
    "remove_block(st,3)\n",
    "print('After Removal')\n",
    "print_stack(st)\n",
    "print('------')\n",
    "\n",
    "print()\n",
    "print('======================================')\n",
    "print()"
   ]
  }
 ],
 "metadata": {
  "kernelspec": {
   "display_name": "Python 3",
   "language": "python",
   "name": "python3"
  },
  "language_info": {
   "codemirror_mode": {
    "name": "ipython",
    "version": 3
   },
   "file_extension": ".py",
   "mimetype": "text/x-python",
   "name": "python",
   "nbconvert_exporter": "python",
   "pygments_lexer": "ipython3",
   "version": "3.12.3"
  }
 },
 "nbformat": 4,
 "nbformat_minor": 2
}
